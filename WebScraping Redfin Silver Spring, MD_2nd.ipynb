{
 "cells": [
  {
   "cell_type": "code",
   "execution_count": 79,
   "id": "640a8b04",
   "metadata": {},
   "outputs": [],
   "source": [
    "from bs4 import BeautifulSoup as bs\n",
    "import requests\n",
    "from splinter import Browser\n",
    "from webdriver_manager.chrome import ChromeDriverManager\n",
    "import pandas as pd\n",
    "import re\n",
    "import plotly.express as px\n",
    "import matplotlib.pyplot as plt\n",
    "import seaborn as sns\n",
    "import numpy as np"
   ]
  },
  {
   "cell_type": "code",
   "execution_count": 50,
   "id": "e3d0e10f",
   "metadata": {},
   "outputs": [
    {
     "name": "stderr",
     "output_type": "stream",
     "text": [
      "\n",
      "\n",
      "====== WebDriver manager ======\n",
      "Current google-chrome version is 96.0.4664\n",
      "Get LATEST chromedriver version for 96.0.4664 google-chrome\n",
      "Driver [/Users/soheilhosseini/.wdm/drivers/chromedriver/mac64/96.0.4664.45/chromedriver] found in cache\n"
     ]
    }
   ],
   "source": [
    "# Setup splinter\n",
    "executable_path = {'executable_path': ChromeDriverManager().install()}\n",
    "browser = Browser('chrome', **executable_path, headless=False)"
   ]
  },
  {
   "cell_type": "code",
   "execution_count": 51,
   "id": "79176c87",
   "metadata": {},
   "outputs": [],
   "source": [
    "url = \"https://www.redfin.com/city/26038/MD/Silver-Spring\"\n",
    "browser.visit(url)"
   ]
  },
  {
   "cell_type": "code",
   "execution_count": 52,
   "id": "5973c87a",
   "metadata": {},
   "outputs": [
    {
     "name": "stdout",
     "output_type": "stream",
     "text": [
      "scraping page: 1  finished\n",
      "scraping page: 2  finished\n",
      "scraping page: 3  finished\n",
      "scraping page: 4  finished\n",
      "scraping page: 5  finished\n",
      "Scraping Complete\n"
     ]
    }
   ],
   "source": [
    "price = []\n",
    "address = []\n",
    "beds = []\n",
    "baths = []\n",
    "size = []\n",
    "house_date_per_page = pd.DataFrame()# Save bed_bath information per page\n",
    "bed_bath_size = []\n",
    "for x in range(1, 10):\n",
    "\n",
    "    html = browser.html\n",
    "    soup = bs(html, 'html.parser')\n",
    "    \n",
    "    \n",
    "    beds_bath_size_soup = soup.find_all(\"div\",class_=[\"HomeStatsV2\"])\n",
    "    for bed_bath in beds_bath_size_soup:\n",
    "        try:\n",
    "            bed_bath_size.append(bed_bath.text)\n",
    "        except:\n",
    "            bed_bath_size.append('NA')\n",
    "            \n",
    "    wholeaddress = pd.DataFrame(bed_bath_size, columns =['wholeaddress'])\n",
    "    wholeaddress['wholeaddress'] = wholeaddress['wholeaddress'].map(lambda x: x.strip())\n",
    "    p = '(—*\\d*)(?:\\s*)(Bed[a-z]*)(—*\\d*\\.*\\d*)\\s*(Bath[a-z]*)(.*)'\n",
    "\n",
    "\n",
    "# Extract the groups\n",
    "    house_data = wholeaddress['wholeaddress'].str.extractall(p, flags= re.I)\n",
    "    house_data.columns = ['NumofBed','Bed','NumofBath','Bath', 'Size']\n",
    "    house_data.reset_index(drop=True, inplace=True)\n",
    "    house_data = house_data[['NumofBed', 'NumofBath', 'Size']].copy()\n",
    "#     house_date_per_page = {x:house_data}\n",
    "    house_date_per_page = pd.concat([house_data])\n",
    "    \n",
    "    address_soup = soup.find_all(\"div\",class_='link-and-anchor')\n",
    "\n",
    "    \n",
    "    price_soup = soup.find_all(\"span\",class_=\"homecardV2Price\")\n",
    "    for House_price in price_soup:\n",
    "        try:\n",
    "            price.append(House_price.text)\n",
    "        except:\n",
    "            price.append(\"NA\")\n",
    "    \n",
    "    for address_each in address_soup:\n",
    "        try: \n",
    "            address.append(address_each.text)\n",
    "        except:\n",
    "            address.append(\"NA\")\n",
    "\n",
    "    print('scraping page:', x, ' finished')\n",
    "    \n",
    "    try:\n",
    "         browser.find_by_xpath('/html/body/div[1]/div[9]/div[2]/div[1]/div[4]/div/div/div[3]/button[2]').click()\n",
    "          \n",
    "    except:\n",
    "        print(\"Scraping Complete\")\n",
    "        break\n",
    "    #browser.find_by_css('.button',{\"data-rf-test-id\": \"react-data-paginate-next\"}).click()\n",
    "\n",
    "    #browser.links.find_by_partial_text('Next').click()\n",
    "browser.quit()"
   ]
  },
  {
   "cell_type": "code",
   "execution_count": 55,
   "id": "4d91f785",
   "metadata": {},
   "outputs": [
    {
     "data": {
      "text/html": [
       "<div>\n",
       "<style scoped>\n",
       "    .dataframe tbody tr th:only-of-type {\n",
       "        vertical-align: middle;\n",
       "    }\n",
       "\n",
       "    .dataframe tbody tr th {\n",
       "        vertical-align: top;\n",
       "    }\n",
       "\n",
       "    .dataframe thead th {\n",
       "        text-align: right;\n",
       "    }\n",
       "</style>\n",
       "<table border=\"1\" class=\"dataframe\">\n",
       "  <thead>\n",
       "    <tr style=\"text-align: right;\">\n",
       "      <th></th>\n",
       "      <th>NumofBed</th>\n",
       "      <th>NumofBath</th>\n",
       "      <th>Size</th>\n",
       "    </tr>\n",
       "  </thead>\n",
       "  <tbody>\n",
       "    <tr>\n",
       "      <th>0</th>\n",
       "      <td>3</td>\n",
       "      <td>2</td>\n",
       "      <td>1,122 Sq. Ft.</td>\n",
       "    </tr>\n",
       "    <tr>\n",
       "      <th>1</th>\n",
       "      <td>4</td>\n",
       "      <td>2.5</td>\n",
       "      <td>3,073 Sq. Ft.</td>\n",
       "    </tr>\n",
       "    <tr>\n",
       "      <th>2</th>\n",
       "      <td>4</td>\n",
       "      <td>2</td>\n",
       "      <td>1,416 Sq. Ft.</td>\n",
       "    </tr>\n",
       "    <tr>\n",
       "      <th>3</th>\n",
       "      <td>2</td>\n",
       "      <td>2</td>\n",
       "      <td>1,120 Sq. Ft.</td>\n",
       "    </tr>\n",
       "    <tr>\n",
       "      <th>4</th>\n",
       "      <td>2</td>\n",
       "      <td>2</td>\n",
       "      <td>1,195 Sq. Ft.</td>\n",
       "    </tr>\n",
       "  </tbody>\n",
       "</table>\n",
       "</div>"
      ],
      "text/plain": [
       "  NumofBed NumofBath           Size\n",
       "0        3         2  1,122 Sq. Ft.\n",
       "1        4       2.5  3,073 Sq. Ft.\n",
       "2        4         2  1,416 Sq. Ft.\n",
       "3        2         2  1,120 Sq. Ft.\n",
       "4        2         2  1,195 Sq. Ft."
      ]
     },
     "execution_count": 55,
     "metadata": {},
     "output_type": "execute_result"
    }
   ],
   "source": [
    "house_data.head()"
   ]
  },
  {
   "cell_type": "code",
   "execution_count": 81,
   "id": "7e9884c2",
   "metadata": {},
   "outputs": [
    {
     "data": {
      "text/html": [
       "<div>\n",
       "<style scoped>\n",
       "    .dataframe tbody tr th:only-of-type {\n",
       "        vertical-align: middle;\n",
       "    }\n",
       "\n",
       "    .dataframe tbody tr th {\n",
       "        vertical-align: top;\n",
       "    }\n",
       "\n",
       "    .dataframe thead th {\n",
       "        text-align: right;\n",
       "    }\n",
       "</style>\n",
       "<table border=\"1\" class=\"dataframe\">\n",
       "  <thead>\n",
       "    <tr style=\"text-align: right;\">\n",
       "      <th></th>\n",
       "      <th>NumofBed</th>\n",
       "      <th>NumofBath</th>\n",
       "      <th>Size</th>\n",
       "      <th>price</th>\n",
       "    </tr>\n",
       "  </thead>\n",
       "  <tbody>\n",
       "    <tr>\n",
       "      <th>0</th>\n",
       "      <td>3</td>\n",
       "      <td>2</td>\n",
       "      <td>1,122 Sq. Ft.</td>\n",
       "      <td>$359,999</td>\n",
       "    </tr>\n",
       "    <tr>\n",
       "      <th>1</th>\n",
       "      <td>4</td>\n",
       "      <td>2.5</td>\n",
       "      <td>3,073 Sq. Ft.</td>\n",
       "      <td>$600,000</td>\n",
       "    </tr>\n",
       "    <tr>\n",
       "      <th>2</th>\n",
       "      <td>4</td>\n",
       "      <td>2</td>\n",
       "      <td>1,416 Sq. Ft.</td>\n",
       "      <td>$460,000</td>\n",
       "    </tr>\n",
       "    <tr>\n",
       "      <th>3</th>\n",
       "      <td>2</td>\n",
       "      <td>2</td>\n",
       "      <td>1,120 Sq. Ft.</td>\n",
       "      <td>$195,000</td>\n",
       "    </tr>\n",
       "    <tr>\n",
       "      <th>4</th>\n",
       "      <td>2</td>\n",
       "      <td>2</td>\n",
       "      <td>1,195 Sq. Ft.</td>\n",
       "      <td>$215,000</td>\n",
       "    </tr>\n",
       "  </tbody>\n",
       "</table>\n",
       "</div>"
      ],
      "text/plain": [
       "  NumofBed NumofBath           Size     price\n",
       "0        3         2  1,122 Sq. Ft.  $359,999\n",
       "1        4       2.5  3,073 Sq. Ft.  $600,000\n",
       "2        4         2  1,416 Sq. Ft.  $460,000\n",
       "3        2         2  1,120 Sq. Ft.  $195,000\n",
       "4        2         2  1,195 Sq. Ft.  $215,000"
      ]
     },
     "execution_count": 81,
     "metadata": {},
     "output_type": "execute_result"
    }
   ],
   "source": [
    "house_data['price']=price\n",
    "house_data.head()"
   ]
  },
  {
   "cell_type": "code",
   "execution_count": 84,
   "id": "172ae96f",
   "metadata": {},
   "outputs": [
    {
     "data": {
      "text/html": [
       "<div>\n",
       "<style scoped>\n",
       "    .dataframe tbody tr th:only-of-type {\n",
       "        vertical-align: middle;\n",
       "    }\n",
       "\n",
       "    .dataframe tbody tr th {\n",
       "        vertical-align: top;\n",
       "    }\n",
       "\n",
       "    .dataframe thead th {\n",
       "        text-align: right;\n",
       "    }\n",
       "</style>\n",
       "<table border=\"1\" class=\"dataframe\">\n",
       "  <thead>\n",
       "    <tr style=\"text-align: right;\">\n",
       "      <th></th>\n",
       "      <th>NumofBed</th>\n",
       "      <th>NumofBath</th>\n",
       "      <th>Size</th>\n",
       "      <th>price</th>\n",
       "    </tr>\n",
       "  </thead>\n",
       "  <tbody>\n",
       "    <tr>\n",
       "      <th>0</th>\n",
       "      <td>3</td>\n",
       "      <td>2</td>\n",
       "      <td>1,122 Sq. Ft.</td>\n",
       "      <td>359999</td>\n",
       "    </tr>\n",
       "    <tr>\n",
       "      <th>1</th>\n",
       "      <td>4</td>\n",
       "      <td>2.5</td>\n",
       "      <td>3,073 Sq. Ft.</td>\n",
       "      <td>600000</td>\n",
       "    </tr>\n",
       "    <tr>\n",
       "      <th>2</th>\n",
       "      <td>4</td>\n",
       "      <td>2</td>\n",
       "      <td>1,416 Sq. Ft.</td>\n",
       "      <td>460000</td>\n",
       "    </tr>\n",
       "    <tr>\n",
       "      <th>3</th>\n",
       "      <td>2</td>\n",
       "      <td>2</td>\n",
       "      <td>1,120 Sq. Ft.</td>\n",
       "      <td>195000</td>\n",
       "    </tr>\n",
       "    <tr>\n",
       "      <th>4</th>\n",
       "      <td>2</td>\n",
       "      <td>2</td>\n",
       "      <td>1,195 Sq. Ft.</td>\n",
       "      <td>215000</td>\n",
       "    </tr>\n",
       "  </tbody>\n",
       "</table>\n",
       "</div>"
      ],
      "text/plain": [
       "  NumofBed NumofBath           Size   price\n",
       "0        3         2  1,122 Sq. Ft.  359999\n",
       "1        4       2.5  3,073 Sq. Ft.  600000\n",
       "2        4         2  1,416 Sq. Ft.  460000\n",
       "3        2         2  1,120 Sq. Ft.  195000\n",
       "4        2         2  1,195 Sq. Ft.  215000"
      ]
     },
     "execution_count": 84,
     "metadata": {},
     "output_type": "execute_result"
    }
   ],
   "source": [
    "# converting currency with $ to numbers in Python pandas\n",
    "house_data['price'] = house_data['price'].replace('[\\$,]', '', regex=True).astype(int)\n",
    "house_data.head()"
   ]
  },
  {
   "cell_type": "code",
   "execution_count": 89,
   "id": "3d17c71b",
   "metadata": {},
   "outputs": [
    {
     "data": {
      "text/plain": [
       "2    50\n",
       "4    41\n",
       "1    39\n",
       "3    35\n",
       "—    16\n",
       "5    10\n",
       "6     6\n",
       "7     1\n",
       "Name: NumofBed, dtype: int64"
      ]
     },
     "execution_count": 89,
     "metadata": {},
     "output_type": "execute_result"
    }
   ],
   "source": [
    "house_data['NumofBed'].value_counts()"
   ]
  },
  {
   "cell_type": "code",
   "execution_count": 90,
   "id": "cd85ab34",
   "metadata": {},
   "outputs": [
    {
     "data": {
      "text/plain": [
       "2      59\n",
       "1      46\n",
       "2.5    23\n",
       "3      21\n",
       "—      16\n",
       "3.5    13\n",
       "1.5    13\n",
       "4       3\n",
       "4.5     2\n",
       "5       1\n",
       "6       1\n",
       "Name: NumofBath, dtype: int64"
      ]
     },
     "execution_count": 90,
     "metadata": {},
     "output_type": "execute_result"
    }
   ],
   "source": [
    "house_data['NumofBath'].value_counts()"
   ]
  },
  {
   "cell_type": "code",
   "execution_count": 91,
   "id": "7af4e17d",
   "metadata": {},
   "outputs": [
    {
     "data": {
      "text/html": [
       "<div>\n",
       "<style scoped>\n",
       "    .dataframe tbody tr th:only-of-type {\n",
       "        vertical-align: middle;\n",
       "    }\n",
       "\n",
       "    .dataframe tbody tr th {\n",
       "        vertical-align: top;\n",
       "    }\n",
       "\n",
       "    .dataframe thead th {\n",
       "        text-align: right;\n",
       "    }\n",
       "</style>\n",
       "<table border=\"1\" class=\"dataframe\">\n",
       "  <thead>\n",
       "    <tr style=\"text-align: right;\">\n",
       "      <th></th>\n",
       "      <th>NumofBed</th>\n",
       "      <th>NumofBath</th>\n",
       "      <th>Size</th>\n",
       "      <th>price</th>\n",
       "    </tr>\n",
       "  </thead>\n",
       "  <tbody>\n",
       "    <tr>\n",
       "      <th>0</th>\n",
       "      <td>3</td>\n",
       "      <td>2</td>\n",
       "      <td>1,122 Sq. Ft.</td>\n",
       "      <td>359999</td>\n",
       "    </tr>\n",
       "    <tr>\n",
       "      <th>1</th>\n",
       "      <td>4</td>\n",
       "      <td>2.5</td>\n",
       "      <td>3,073 Sq. Ft.</td>\n",
       "      <td>600000</td>\n",
       "    </tr>\n",
       "    <tr>\n",
       "      <th>2</th>\n",
       "      <td>4</td>\n",
       "      <td>2</td>\n",
       "      <td>1,416 Sq. Ft.</td>\n",
       "      <td>460000</td>\n",
       "    </tr>\n",
       "    <tr>\n",
       "      <th>3</th>\n",
       "      <td>2</td>\n",
       "      <td>2</td>\n",
       "      <td>1,120 Sq. Ft.</td>\n",
       "      <td>195000</td>\n",
       "    </tr>\n",
       "    <tr>\n",
       "      <th>4</th>\n",
       "      <td>2</td>\n",
       "      <td>2</td>\n",
       "      <td>1,195 Sq. Ft.</td>\n",
       "      <td>215000</td>\n",
       "    </tr>\n",
       "  </tbody>\n",
       "</table>\n",
       "</div>"
      ],
      "text/plain": [
       "  NumofBed NumofBath           Size   price\n",
       "0        3         2  1,122 Sq. Ft.  359999\n",
       "1        4       2.5  3,073 Sq. Ft.  600000\n",
       "2        4         2  1,416 Sq. Ft.  460000\n",
       "3        2         2  1,120 Sq. Ft.  195000\n",
       "4        2         2  1,195 Sq. Ft.  215000"
      ]
     },
     "execution_count": 91,
     "metadata": {},
     "output_type": "execute_result"
    }
   ],
   "source": [
    "# Filter all rows with — as input\n",
    "# Cleaning data\n",
    "house_data_filtered = house_data[house_data['NumofBed'] != '—']\n",
    "house_data_filtered.head()"
   ]
  },
  {
   "cell_type": "code",
   "execution_count": 92,
   "id": "88bd25e6",
   "metadata": {},
   "outputs": [
    {
     "data": {
      "text/plain": [
       "2    50\n",
       "4    41\n",
       "1    39\n",
       "3    35\n",
       "5    10\n",
       "6     6\n",
       "7     1\n",
       "Name: NumofBed, dtype: int64"
      ]
     },
     "execution_count": 92,
     "metadata": {},
     "output_type": "execute_result"
    }
   ],
   "source": [
    "house_data_filtered['NumofBed'].value_counts()"
   ]
  },
  {
   "cell_type": "code",
   "execution_count": 93,
   "id": "93f23c50",
   "metadata": {},
   "outputs": [
    {
     "data": {
      "text/plain": [
       "2      59\n",
       "1      46\n",
       "2.5    23\n",
       "3      21\n",
       "3.5    13\n",
       "1.5    13\n",
       "4       3\n",
       "4.5     2\n",
       "5       1\n",
       "6       1\n",
       "Name: NumofBath, dtype: int64"
      ]
     },
     "execution_count": 93,
     "metadata": {},
     "output_type": "execute_result"
    }
   ],
   "source": [
    "house_data_filtered['NumofBath'].value_counts()"
   ]
  },
  {
   "cell_type": "code",
   "execution_count": 94,
   "id": "9b0f5cb2",
   "metadata": {},
   "outputs": [
    {
     "name": "stderr",
     "output_type": "stream",
     "text": [
      "/Users/soheilhosseini/miniforge3/envs/PythonAdv/lib/python3.9/site-packages/pandas/core/frame.py:3191: SettingWithCopyWarning:\n",
      "\n",
      "\n",
      "A value is trying to be set on a copy of a slice from a DataFrame.\n",
      "Try using .loc[row_indexer,col_indexer] = value instead\n",
      "\n",
      "See the caveats in the documentation: https://pandas.pydata.org/pandas-docs/stable/user_guide/indexing.html#returning-a-view-versus-a-copy\n",
      "\n"
     ]
    },
    {
     "data": {
      "text/plain": [
       "NumofBed       int64\n",
       "NumofBath    float64\n",
       "Size          object\n",
       "price          int64\n",
       "dtype: object"
      ]
     },
     "execution_count": 94,
     "metadata": {},
     "output_type": "execute_result"
    }
   ],
   "source": [
    "#change data types to numeric\n",
    "cols = house_data_filtered.columns.drop('Size')\n",
    "house_data_filtered[cols] = house_data_filtered[cols].apply(pd.to_numeric, errors='coerce')\n",
    "house_data_filtered.dtypes"
   ]
  },
  {
   "cell_type": "code",
   "execution_count": 95,
   "id": "f6e8e2ea",
   "metadata": {},
   "outputs": [
    {
     "data": {
      "image/png": "[encoded data removed]",
      "text/plain": [
       "<Figure size 432x288 with 1 Axes>"
      ]
     },
     "metadata": {
      "needs_background": "light"
     },
     "output_type": "display_data"
    }
   ],
   "source": [
    "sns.histplot(house_data_filtered['NumofBed'])\n",
    "plt.show()"
   ]
  },
  {
   "cell_type": "code",
   "execution_count": 96,
   "id": "35a9affa",
   "metadata": {},
   "outputs": [
    {
     "data": {
      "image/png": "[encoded data removed]",
      "text/plain": [
       "<Figure size 432x288 with 1 Axes>"
      ]
     },
     "metadata": {
      "needs_background": "light"
     },
     "output_type": "display_data"
    }
   ],
   "source": [
    "sns.histplot(house_data_filtered['NumofBath'])\n",
    "plt.show()"
   ]
  },
  {
   "cell_type": "code",
   "execution_count": 105,
   "id": "ad594974",
   "metadata": {},
   "outputs": [
    {
     "data": {
      "image/png": "[encoded data removed]",
      "text/plain": [
       "<Figure size 576x360 with 1 Axes>"
      ]
     },
     "metadata": {
      "needs_background": "light"
     },
     "output_type": "display_data"
    }
   ],
   "source": [
    "plt.figure(figsize = (8,5))\n",
    "sns.histplot(house_data_filtered['price'])\n",
    "plt.ticklabel_format(style='plain', axis='x')\n",
    "plt.xticks(rotation = 45) # Rotates X-Axis Ticks by 45-degrees\n",
    "\n",
    "plt.show()"
   ]
  },
  {
   "cell_type": "code",
   "execution_count": null,
   "id": "f146a8be",
   "metadata": {},
   "outputs": [],
   "source": []
  }
 ],
 "metadata": {
  "kernelspec": {
   "display_name": "Python 3.9.4 64-bit ('PythonAdv': conda)",
   "language": "python",
   "name": "python394jvsc74a57bd01c57b422e1566e200f820267b75cce6d44d21cc07fb8acb3ea4b77bc02dfd528"
  },
  "language_info": {
   "codemirror_mode": {
    "name": "ipython",
    "version": 3
   },
   "file_extension": ".py",
   "mimetype": "text/x-python",
   "name": "python",
   "nbconvert_exporter": "python",
   "pygments_lexer": "ipython3",
   "version": "3.9.4"
  }
 },
 "nbformat": 4,
 "nbformat_minor": 5
}
